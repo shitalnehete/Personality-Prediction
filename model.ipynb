{
 "cells": [
  {
   "cell_type": "code",
   "execution_count": 1,
   "metadata": {},
   "outputs": [],
   "source": [
    "import pickle\n",
    "from sklearn.ensemble import RandomForestRegressor, RandomForestClassifier\n",
    "from data_prep import DataPrep\n",
    "from sklearn.feature_extraction.text import TfidfVectorizer"
   ]
  },
  {
   "cell_type": "code",
   "execution_count": 2,
   "metadata": {},
   "outputs": [],
   "source": [
    "class Model():\n",
    "    def __init__(self):\n",
    "        self.rfr = RandomForestRegressor(bootstrap=True,\n",
    "         max_features='sqrt',\n",
    "         min_samples_leaf=1,\n",
    "         min_samples_split=2,\n",
    "         n_estimators= 200)\n",
    "        self.rfc = RandomForestClassifier(max_features='sqrt', n_estimators=110)\n",
    "        self.tfidf = TfidfVectorizer(stop_words='english', strip_accents='ascii')\n",
    "\n",
    "    def fit(self, X, y, regression=True):\n",
    "        X = self.tfidf.fit_transform(X)\n",
    "        if regression:\n",
    "            self.rfr = self.rfr.fit(X, y)\n",
    "            accuracy = self.rfr.score(X,y)\n",
    "            print(\"Accuracy:\", accuracy)\n",
    "        else:\n",
    "            self.rfc = self.rfc.fit(X, y)\n",
    "\n",
    "    def predict(self, X, regression=True):\n",
    "        X = self.tfidf.transform(X)\n",
    "        if regression:\n",
    "            return self.rfr.predict(X)\n",
    "        else:\n",
    "            return self.rfc.predict(X)\n",
    "\n",
    "    def predict_proba(self, X, regression=False):\n",
    "        X = self.tfidf.transform(X)\n",
    "        if regression:\n",
    "            raise ValueError('Cannot predict probabilites of a regression!')\n",
    "        else:\n",
    "            return self.rfc.predict_proba(X)\n"
   ]
  },
  {
   "cell_type": "code",
   "execution_count": 3,
   "metadata": {},
   "outputs": [
    {
     "name": "stdout",
     "output_type": "stream",
     "text": [
      "Fitting trait OPN regression model...\n",
      "Accuracy: 0.8496211419294654\n",
      "Done!\n",
      "Fitting trait OPN categorical model...\n",
      "Done!\n",
      "Fitting trait CON regression model...\n",
      "Accuracy: 0.8495157934845365\n",
      "Done!\n",
      "Fitting trait CON categorical model...\n",
      "Done!\n",
      "Fitting trait EXT regression model...\n",
      "Accuracy: 0.85533739349191\n",
      "Done!\n",
      "Fitting trait EXT categorical model...\n",
      "Done!\n",
      "Fitting trait AGR regression model...\n",
      "Accuracy: 0.8532142649185164\n",
      "Done!\n",
      "Fitting trait AGR categorical model...\n",
      "Done!\n",
      "Fitting trait NEU regression model...\n",
      "Accuracy: 0.8484403906915192\n",
      "Done!\n",
      "Fitting trait NEU categorical model...\n",
      "Done!\n"
     ]
    }
   ],
   "source": [
    "if __name__ == '__main__':\n",
    "    traits = ['OPN', 'CON', 'EXT', 'AGR', 'NEU']\n",
    "    model = Model()\n",
    "\n",
    "    for trait in traits:\n",
    "        dp = DataPrep()\n",
    "        X_regression, y_regression = dp.prep_data('status', trait, regression=True, model_comparison=False)\n",
    "        X_categorical, y_categorical = dp.prep_data('status', trait, regression=False, model_comparison=False)\n",
    "        print('Fitting trait ' + trait + ' regression model...')\n",
    "        model.fit(X_regression, y_regression, regression=True)\n",
    "        print('Done!')\n",
    "        print('Fitting trait ' + trait + ' categorical model...')\n",
    "        model.fit(X_categorical, y_categorical, regression=False)\n",
    "        print('Done!')\n",
    "        with open('static1/' + trait + '_model.pkl', 'wb') as f:\n",
    "            # Write the model to a file.\n",
    "            pickle.dump(model, f)\n"
   ]
  }
 ],
 "metadata": {
  "kernelspec": {
   "display_name": "Python 3",
   "language": "python",
   "name": "python3"
  },
  "language_info": {
   "codemirror_mode": {
    "name": "ipython",
    "version": 3
   },
   "file_extension": ".py",
   "mimetype": "text/x-python",
   "name": "python",
   "nbconvert_exporter": "python",
   "pygments_lexer": "ipython3",
   "version": "3.8.5"
  }
 },
 "nbformat": 4,
 "nbformat_minor": 4
}
