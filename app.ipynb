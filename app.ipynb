{
 "cells": [
  {
   "cell_type": "code",
   "execution_count": 1,
   "metadata": {
    "scrolled": true
   },
   "outputs": [],
   "source": [
    "import requests\n",
    "from predict import Predictor\n",
    "from model import Model\n",
    "import json\n",
    "from bson import json_util\n",
    "from flask import Flask, render_template, request, jsonify, make_response\n",
    "from flask_cors import CORS"
   ]
  },
  {
   "cell_type": "code",
   "execution_count": 2,
   "metadata": {},
   "outputs": [
    {
     "data": {
      "text/plain": [
       "<flask_cors.extension.CORS at 0x1845c183640>"
      ]
     },
     "execution_count": 2,
     "metadata": {},
     "output_type": "execute_result"
    }
   ],
   "source": [
    "predictor = Predictor()\n",
    "M = Model()\n",
    "app = Flask(__name__)\n",
    "CORS(app)"
   ]
  },
  {
   "cell_type": "code",
   "execution_count": 3,
   "metadata": {},
   "outputs": [],
   "source": [
    "@app.route('/predict', methods=['POST'])\n",
    "def predict():\n",
    "    text = request.get_json()\n",
    "    prediction =  predictor.predict([text])\n",
    "    return jsonify(prediction)\n",
    "\n",
    "@app.route('/my_network', methods=['GET'])\n",
    "def my_network():\n",
    "    my_network_predictions = predictor.my_network_json()\n",
    "    return json.dumps(my_network_predictions, default=json_util.default)\n",
    "\n",
    "@app.route('/my_personality', methods=['GET'])\n",
    "def my_personality():\n",
    "    my_personality = predictor.my_personality_json()\n",
    "    return json.dumps(my_personality, default=json_util.default)\n",
    "\n",
    "@app.route('/submit_personality_test', methods=['POST'])\n",
    "def submit_personality_test():\n",
    "    answers = request.get_json()\n",
    "    result = predictor.submit_personality_test(answers)\n",
    "    return jsonify(result)"
   ]
  },
  {
   "cell_type": "code",
   "execution_count": null,
   "metadata": {},
   "outputs": [
    {
     "name": "stdout",
     "output_type": "stream",
     "text": [
      " * Serving Flask app \"__main__\" (lazy loading)\n",
      " * Environment: production\n",
      "   WARNING: This is a development server. Do not use it in a production deployment.\n",
      "   Use a production WSGI server instead.\n",
      " * Debug mode: off\n"
     ]
    },
    {
     "name": "stderr",
     "output_type": "stream",
     "text": [
      " * Running on http://0.0.0.0:5000/ (Press CTRL+C to quit)\n",
      "127.0.0.1 - - [22/Jul/2021 11:11:45] \"\u001b[37mOPTIONS //my_network HTTP/1.1\u001b[0m\" 200 -\n",
      "[2021-07-22 11:12:15,488] ERROR in app: Exception on /my_network [GET]\n",
      "Traceback (most recent call last):\n",
      "  File \"C:\\Users\\home\\anaconda3\\lib\\site-packages\\flask\\app.py\", line 2447, in wsgi_app\n",
      "    response = self.full_dispatch_request()\n",
      "  File \"C:\\Users\\home\\anaconda3\\lib\\site-packages\\flask\\app.py\", line 1952, in full_dispatch_request\n",
      "    rv = self.handle_user_exception(e)\n",
      "  File \"C:\\Users\\home\\anaconda3\\lib\\site-packages\\flask_cors\\extension.py\", line 165, in wrapped_function\n",
      "    return cors_after_request(app.make_response(f(*args, **kwargs)))\n",
      "  File \"C:\\Users\\home\\anaconda3\\lib\\site-packages\\flask\\app.py\", line 1821, in handle_user_exception\n",
      "    reraise(exc_type, exc_value, tb)\n",
      "  File \"C:\\Users\\home\\anaconda3\\lib\\site-packages\\flask\\_compat.py\", line 39, in reraise\n",
      "    raise value\n",
      "  File \"C:\\Users\\home\\anaconda3\\lib\\site-packages\\flask\\app.py\", line 1950, in full_dispatch_request\n",
      "    rv = self.dispatch_request()\n",
      "  File \"C:\\Users\\home\\anaconda3\\lib\\site-packages\\flask\\app.py\", line 1936, in dispatch_request\n",
      "    return self.view_functions[rule.endpoint](**req.view_args)\n",
      "  File \"<ipython-input-3-e8e92639ffcd>\", line 9, in my_network\n",
      "    my_network_predictions = predictor.my_network_json()\n",
      "  File \"C:\\Users\\home\\Desktop\\trial\\predict.py\", line 295, in my_network_json\n",
      "    entries = list(self.fb_statuses.find({'my_personality': {'$exists': False}}, {\n",
      "  File \"C:\\Users\\home\\anaconda3\\lib\\site-packages\\pymongo\\cursor.py\", line 1207, in next\n",
      "    if len(self.__data) or self._refresh():\n",
      "  File \"C:\\Users\\home\\anaconda3\\lib\\site-packages\\pymongo\\cursor.py\", line 1100, in _refresh\n",
      "    self.__session = self.__collection.database.client._ensure_session()\n",
      "  File \"C:\\Users\\home\\anaconda3\\lib\\site-packages\\pymongo\\mongo_client.py\", line 1816, in _ensure_session\n",
      "    return self.__start_session(True, causal_consistency=False)\n",
      "  File \"C:\\Users\\home\\anaconda3\\lib\\site-packages\\pymongo\\mongo_client.py\", line 1766, in __start_session\n",
      "    server_session = self._get_server_session()\n",
      "  File \"C:\\Users\\home\\anaconda3\\lib\\site-packages\\pymongo\\mongo_client.py\", line 1802, in _get_server_session\n",
      "    return self._topology.get_server_session()\n",
      "  File \"C:\\Users\\home\\anaconda3\\lib\\site-packages\\pymongo\\topology.py\", line 485, in get_server_session\n",
      "    self._select_servers_loop(\n",
      "  File \"C:\\Users\\home\\anaconda3\\lib\\site-packages\\pymongo\\topology.py\", line 215, in _select_servers_loop\n",
      "    raise ServerSelectionTimeoutError(\n",
      "pymongo.errors.ServerSelectionTimeoutError: localhost:27017: [WinError 10061] No connection could be made because the target machine actively refused it, Timeout: 30s, Topology Description: <TopologyDescription id: 60f904b3b8386bb5d20f1ce8, topology_type: Single, servers: [<ServerDescription ('localhost', 27017) server_type: Unknown, rtt: None, error=AutoReconnect('localhost:27017: [WinError 10061] No connection could be made because the target machine actively refused it')>]>\n",
      "127.0.0.1 - - [22/Jul/2021 11:12:15] \"\u001b[35m\u001b[1mGET //my_network HTTP/1.1\u001b[0m\" 500 -\n",
      "127.0.0.1 - - [22/Jul/2021 11:18:49] \"\u001b[37mGET /my_personality HTTP/1.1\u001b[0m\" 200 -\n",
      "127.0.0.1 - - [22/Jul/2021 11:18:50] \"\u001b[33mGET /favicon.ico HTTP/1.1\u001b[0m\" 404 -\n",
      "127.0.0.1 - - [22/Jul/2021 11:19:04] \"\u001b[37mGET /my_network HTTP/1.1\u001b[0m\" 200 -\n",
      "127.0.0.1 - - [22/Jul/2021 11:49:24] \"\u001b[37mOPTIONS //my_network HTTP/1.1\u001b[0m\" 200 -\n",
      "127.0.0.1 - - [22/Jul/2021 11:49:24] \"\u001b[37mGET //my_network HTTP/1.1\u001b[0m\" 200 -\n",
      "127.0.0.1 - - [22/Jul/2021 11:50:04] \"\u001b[37mOPTIONS //my_network HTTP/1.1\u001b[0m\" 200 -\n",
      "127.0.0.1 - - [22/Jul/2021 11:50:04] \"\u001b[37mGET //my_network HTTP/1.1\u001b[0m\" 200 -\n",
      "127.0.0.1 - - [22/Jul/2021 12:02:55] \"\u001b[37mOPTIONS //my_network HTTP/1.1\u001b[0m\" 200 -\n",
      "127.0.0.1 - - [22/Jul/2021 12:02:55] \"\u001b[37mGET //my_network HTTP/1.1\u001b[0m\" 200 -\n",
      "127.0.0.1 - - [22/Jul/2021 12:02:59] \"\u001b[37mGET //my_network HTTP/1.1\u001b[0m\" 200 -\n",
      "127.0.0.1 - - [22/Jul/2021 12:04:07] \"\u001b[37mOPTIONS //my_network HTTP/1.1\u001b[0m\" 200 -\n",
      "127.0.0.1 - - [22/Jul/2021 12:04:07] \"\u001b[37mGET //my_network HTTP/1.1\u001b[0m\" 200 -\n",
      "127.0.0.1 - - [22/Jul/2021 12:07:04] \"\u001b[37mOPTIONS //predict HTTP/1.1\u001b[0m\" 200 -\n",
      "127.0.0.1 - - [22/Jul/2021 12:07:05] \"\u001b[37mPOST //predict HTTP/1.1\u001b[0m\" 200 -\n",
      "127.0.0.1 - - [22/Jul/2021 12:08:21] \"\u001b[37mOPTIONS //my_network HTTP/1.1\u001b[0m\" 200 -\n",
      "127.0.0.1 - - [22/Jul/2021 12:08:21] \"\u001b[37mGET //my_network HTTP/1.1\u001b[0m\" 200 -\n",
      "127.0.0.1 - - [22/Jul/2021 12:08:34] \"\u001b[37mOPTIONS //predict HTTP/1.1\u001b[0m\" 200 -\n",
      "127.0.0.1 - - [22/Jul/2021 12:08:35] \"\u001b[37mPOST //predict HTTP/1.1\u001b[0m\" 200 -\n",
      "127.0.0.1 - - [22/Jul/2021 12:10:22] \"\u001b[37mOPTIONS //predict HTTP/1.1\u001b[0m\" 200 -\n",
      "127.0.0.1 - - [22/Jul/2021 12:10:23] \"\u001b[37mPOST //predict HTTP/1.1\u001b[0m\" 200 -\n",
      "127.0.0.1 - - [22/Jul/2021 12:11:46] \"\u001b[37mOPTIONS //predict HTTP/1.1\u001b[0m\" 200 -\n",
      "127.0.0.1 - - [22/Jul/2021 12:11:46] \"\u001b[37mPOST //predict HTTP/1.1\u001b[0m\" 200 -\n",
      "127.0.0.1 - - [22/Jul/2021 12:14:22] \"\u001b[37mOPTIONS //predict HTTP/1.1\u001b[0m\" 200 -\n",
      "127.0.0.1 - - [22/Jul/2021 12:14:23] \"\u001b[37mPOST //predict HTTP/1.1\u001b[0m\" 200 -\n",
      "127.0.0.1 - - [22/Jul/2021 12:14:24] \"\u001b[37mPOST //predict HTTP/1.1\u001b[0m\" 200 -\n",
      "127.0.0.1 - - [22/Jul/2021 12:15:40] \"\u001b[37mOPTIONS //predict HTTP/1.1\u001b[0m\" 200 -\n",
      "127.0.0.1 - - [22/Jul/2021 12:15:41] \"\u001b[37mPOST //predict HTTP/1.1\u001b[0m\" 200 -\n"
     ]
    }
   ],
   "source": [
    "if __name__ == '__main__':\n",
    "    app.run(host='0.0.0.0')"
   ]
  },
  {
   "cell_type": "code",
   "execution_count": null,
   "metadata": {},
   "outputs": [],
   "source": []
  }
 ],
 "metadata": {
  "kernelspec": {
   "display_name": "Python 3",
   "language": "python",
   "name": "python3"
  },
  "language_info": {
   "codemirror_mode": {
    "name": "ipython",
    "version": 3
   },
   "file_extension": ".py",
   "mimetype": "text/x-python",
   "name": "python",
   "nbconvert_exporter": "python",
   "pygments_lexer": "ipython3",
   "version": "3.8.5"
  }
 },
 "nbformat": 4,
 "nbformat_minor": 4
}
